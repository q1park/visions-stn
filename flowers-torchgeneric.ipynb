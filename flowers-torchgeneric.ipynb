{
 "cells": [
  {
   "cell_type": "code",
   "execution_count": 1,
   "metadata": {},
   "outputs": [],
   "source": [
    "%matplotlib inline\n",
    "from IPython.core.interactiveshell import InteractiveShell\n",
    "InteractiveShell.ast_node_interactivity = \"all\"\n",
    "\n",
    "import os\n",
    "import numpy as np\n",
    "import matplotlib.pyplot as plt\n",
    "\n",
    "import torch\n",
    "import torch.nn.functional as F\n",
    "from torch import nn\n",
    "from torch import optim\n",
    "from torchvision import datasets, transforms\n",
    "from torch.utils.data import SubsetRandomSampler\n",
    "\n",
    "import helper"
   ]
  },
  {
   "cell_type": "markdown",
   "metadata": {},
   "source": [
    "## Flowers\n",
    "\n",
    "https://s3.amazonaws.com/content.udacity-data.com/nd089/flower_data.tar.gz"
   ]
  },
  {
   "cell_type": "code",
   "execution_count": 2,
   "metadata": {},
   "outputs": [],
   "source": [
    "class ImageFolderSubClasses(datasets.ImageFolder):\n",
    "    def __init__(self, root, subclasses, transform=None):\n",
    "        super(ImageFolderSubClasses, self).__init__(root, transform=transform)\n",
    "\n",
    "    def _find_classes(self, dir):\n",
    "\n",
    "        classes = [d.name for d in os.scandir(dir) if d.is_dir() and d.name in subclasses]\n",
    "        \n",
    "        classes.sort()\n",
    "        class_to_idx = {classes[i]: i for i in range(len(classes))}\n",
    "        return classes, class_to_idx"
   ]
  },
  {
   "cell_type": "code",
   "execution_count": 3,
   "metadata": {},
   "outputs": [],
   "source": [
    "# datatransforms = {\"train\": transforms.Compose([transforms.RandomRotation(30),\n",
    "#                                                transforms.Resize(120),\n",
    "#                                                transforms.CenterCrop(120),\n",
    "#                                                transforms.ToTensor(),\n",
    "#                                                transforms.Normalize([0.5, 0.5, 0.5], \n",
    "#                                                                     [0.5, 0.5, 0.5])]),\n",
    "#                   \"valid\": transforms.Compose([transforms.Resize(120),\n",
    "#                                                transforms.CenterCrop(120),\n",
    "#                                                transforms.ToTensor(),\n",
    "#                                                transforms.Normalize([0.5, 0.5, 0.5], \n",
    "#                                                                     [0.5, 0.5, 0.5])]),\n",
    "#                   \"test\": transforms.Compose([transforms.Resize(120),\n",
    "#                                               transforms.CenterCrop(120),\n",
    "#                                               transforms.ToTensor(),\n",
    "#                                               transforms.Normalize([0.5, 0.5, 0.5], \n",
    "#                                                                    [0.5, 0.5, 0.5])])}\n",
    "datatransforms = {\"train\": transforms.Compose([transforms.Resize(120),\n",
    "                                               transforms.CenterCrop(120),\n",
    "                                               transforms.ToTensor(),\n",
    "                                               transforms.Normalize([0.5, 0.5, 0.5], \n",
    "                                                                    [0.5, 0.5, 0.5])]),\n",
    "                  \"valid\": transforms.Compose([transforms.Resize(120),\n",
    "                                               transforms.CenterCrop(120),\n",
    "                                               transforms.ToTensor(),\n",
    "                                               transforms.Normalize([0.5, 0.5, 0.5], \n",
    "                                                                    [0.5, 0.5, 0.5])]),\n",
    "                  \"test\": transforms.Compose([transforms.Resize(120),\n",
    "                                              transforms.CenterCrop(120),\n",
    "                                              transforms.ToTensor(),\n",
    "                                              transforms.Normalize([0.5, 0.5, 0.5], \n",
    "                                                                   [0.5, 0.5, 0.5])])}"
   ]
  },
  {
   "cell_type": "code",
   "execution_count": 4,
   "metadata": {},
   "outputs": [],
   "source": [
    "basedir = '/home/q1park/visions/data/'\n",
    "subclasses = ['1', '10', '20']\n",
    "batchsize = 25\n",
    "\n",
    "dirs = {\"train\": basedir + \"train\", \n",
    "        \"valid\": basedir + \"valid\", \n",
    "        \"test\": basedir + \"test\"}\n",
    "\n",
    "imgsets = {x: ImageFolderSubClasses(dirs[x], subclasses = subclasses, \\\n",
    "                                    transform=datatransforms[x]) \\\n",
    "           for x in [\"train\", \"valid\", \"test\"]}\n",
    "loaders = {x: torch.utils.data.DataLoader(imgsets[x], batch_size=batchsize, shuffle=True) \\\n",
    "           for x in [\"train\", \"valid\", \"test\"]}"
   ]
  },
  {
   "cell_type": "code",
   "execution_count": 5,
   "metadata": {},
   "outputs": [
    {
     "name": "stderr",
     "output_type": "stream",
     "text": [
      "Clipping input data to the valid range for imshow with RGB data ([0..1] for floats or [0..255] for integers).\n"
     ]
    },
    {
     "name": "stdout",
     "output_type": "stream",
     "text": [
      "2\n"
     ]
    },
    {
     "data": {
      "image/png": "[encoded data removed]",
      "text/plain": [
       "<Figure size 432x288 with 1 Axes>"
      ]
     },
     "metadata": {
      "needs_background": "light"
     },
     "output_type": "display_data"
    }
   ],
   "source": [
    "def plot_image(image):\n",
    "    fig, ax = plt.subplots(1, 1)\n",
    "    \n",
    "    if image.shape[2] == 1:\n",
    "        image = image[:, :, 0]\n",
    "    ax.imshow(image, cmap = 'gray')\n",
    "    plt.show()\n",
    "\n",
    "datarunner = iter(loaders[\"train\"]);\n",
    "images, labels = next(datarunner)\n",
    "\n",
    "npimg = images[0].numpy().transpose((1, 2, 0))\n",
    "print(labels[0].numpy())\n",
    "plot_image(npimg )"
   ]
  },
  {
   "cell_type": "code",
   "execution_count": 6,
   "metadata": {},
   "outputs": [],
   "source": [
    "def make_checkpoint(model, check_name):\n",
    "    checkpoint = {'state_dict': model.state_dict()}\n",
    "    torch.save(checkpoint, check_name)\n",
    "\n",
    "def load_checkpoint(filepath):\n",
    "    checkpoint = torch.load(filepath)\n",
    "    model = Network()\n",
    "    model.load_state_dict(checkpoint['state_dict'])\n",
    "    \n",
    "    return model"
   ]
  },
  {
   "cell_type": "code",
   "execution_count": 11,
   "metadata": {},
   "outputs": [],
   "source": [
    "class Network(nn.Module):\n",
    "    def __init__(self):\n",
    "        super(Network, self).__init__()\n",
    "        self.pool = nn.MaxPool2d(2, 2)\n",
    "        \n",
    "        self.conv1 = nn.Conv2d(3, 16, 3, padding=1)\n",
    "        self.conv1_bn = nn.BatchNorm2d(16)\n",
    "        self.conv2 = nn.Conv2d(16, 32, 3, padding=1)\n",
    "        self.conv2_bn = nn.BatchNorm2d(32)\n",
    "        self.conv3 = nn.Conv2d(32, 64, 3, padding=1)\n",
    "        self.conv3_bn = nn.BatchNorm2d(64)\n",
    "        \n",
    "        # pool after conv reduces image size 120 > 60 > 30 > 15\n",
    "        self.fc1 = nn.Linear(64*15*15, 50)\n",
    "        self.fc2 = nn.Linear(50, 50)\n",
    "        self.fc3 = nn.Linear(50, 3)\n",
    "\n",
    "        self.dropout = nn.Dropout(p = 0.4)\n",
    "\n",
    "    def forward(self, x):\n",
    "        x = self.pool(F.relu(self.conv1_bn(self.conv1(x) ) ) )\n",
    "        x = self.pool(F.relu(self.conv2_bn(self.conv2(x) ) ) )\n",
    "        x = self.pool(F.relu(self.conv3_bn(self.conv3(x) ) ) )\n",
    "\n",
    "        x = x.view(-1, 64*15*15)\n",
    "\n",
    "        x = F.relu(self.fc1(x))\n",
    "        x = self.dropout(x)\n",
    "        x = F.relu(self.fc2(x))\n",
    "        x = self.dropout(x)\n",
    "        x = self.fc3(x)\n",
    "        \n",
    "        return F.log_softmax(x, dim = 1)"
   ]
  },
  {
   "cell_type": "code",
   "execution_count": 12,
   "metadata": {},
   "outputs": [],
   "source": [
    "model = Network()\n",
    "criterion = nn.CrossEntropyLoss()\n",
    "optimizer = optim.Adam(model.parameters(), lr=0.0001)"
   ]
  },
  {
   "cell_type": "code",
   "execution_count": 13,
   "metadata": {},
   "outputs": [
    {
     "name": "stdout",
     "output_type": "stream",
     "text": [
      "Epoch: 5 \tTraining Loss: 0.783343 \tValidation Loss: 1.043989\n",
      "Epoch: 10 \tTraining Loss: 0.518476 \tValidation Loss: 0.651064\n",
      "Epoch: 15 \tTraining Loss: 0.375041 \tValidation Loss: 0.452327\n",
      "Epoch: 20 \tTraining Loss: 0.276809 \tValidation Loss: 0.299767\n",
      "Epoch: 25 \tTraining Loss: 0.223072 \tValidation Loss: 0.406469\n",
      "Epoch: 30 \tTraining Loss: 0.213783 \tValidation Loss: 0.367575\n",
      "Epoch: 35 \tTraining Loss: 0.138163 \tValidation Loss: 0.329080\n"
     ]
    }
   ],
   "source": [
    "epochs = 40\n",
    "printevery=5\n",
    "\n",
    "for epoch in range(1, epochs):\n",
    "    trainloss = 0.0\n",
    "    validloss = 0.0\n",
    "    \n",
    "    model.train();\n",
    "    for data, target in loaders[\"train\"]:\n",
    "        optimizer.zero_grad()\n",
    "        output = model(data)\n",
    "        loss = criterion(output, target)\n",
    "        loss.backward()\n",
    "        optimizer.step()\n",
    "        trainloss += loss.item()*data.size(0)\n",
    "        \n",
    "    model.eval();\n",
    "    with torch.no_grad():\n",
    "        for data, target in loaders[\"test\"]:\n",
    "            output = model(data)\n",
    "            vloss = criterion(output, target)\n",
    "            validloss += vloss.item()*data.size(0)\n",
    "\n",
    "        trainloss = trainloss/len(loaders[\"train\"].dataset)\n",
    "        validloss = validloss/len(loaders[\"test\"].dataset)\n",
    "\n",
    "        if epoch%printevery == 0:\n",
    "            print('Epoch: {} \\tTraining Loss: {:.6f} \\tValidation Loss: {:.6f}'.format(\n",
    "                epoch, trainloss, validloss))\n",
    "pass;"
   ]
  },
  {
   "cell_type": "code",
   "execution_count": 10,
   "metadata": {},
   "outputs": [
    {
     "name": "stdout",
     "output_type": "stream",
     "text": [
      "Network(\n",
      "  (pool): MaxPool2d(kernel_size=2, stride=2, padding=0, dilation=1, ceil_mode=False)\n",
      "  (conv1): Conv2d(3, 16, kernel_size=(3, 3), stride=(1, 1), padding=(1, 1))\n",
      "  (conv1_bn): BatchNorm2d(16, eps=1e-05, momentum=0.1, affine=True, track_running_stats=True)\n",
      "  (conv2): Conv2d(16, 32, kernel_size=(3, 3), stride=(1, 1), padding=(1, 1))\n",
      "  (conv2_bn): BatchNorm2d(32, eps=1e-05, momentum=0.1, affine=True, track_running_stats=True)\n",
      "  (conv3): Conv2d(32, 64, kernel_size=(3, 3), stride=(1, 1), padding=(1, 1))\n",
      "  (conv3_bn): BatchNorm2d(64, eps=1e-05, momentum=0.1, affine=True, track_running_stats=True)\n",
      "  (fc1): Linear(in_features=14400, out_features=50, bias=True)\n",
      "  (fc2): Linear(in_features=50, out_features=50, bias=True)\n",
      "  (fc3): Linear(in_features=50, out_features=3, bias=True)\n",
      "  (dropout): Dropout(p=0.4)\n",
      ")\n"
     ]
    }
   ],
   "source": [
    "checkmark = 'checkpoint_'+'1'+'.pth'\n",
    "make_checkpoint(model, checkmark)\n",
    "\n",
    "model_fresh = load_checkpoint(checkmark)\n",
    "print(model_fresh)"
   ]
  }
 ],
 "metadata": {
  "kernelspec": {
   "display_name": "py36",
   "language": "python",
   "name": "py36"
  },
  "language_info": {
   "codemirror_mode": {
    "name": "ipython",
    "version": 3
   },
   "file_extension": ".py",
   "mimetype": "text/x-python",
   "name": "python",
   "nbconvert_exporter": "python",
   "pygments_lexer": "ipython3",
   "version": "3.6.7"
  }
 },
 "nbformat": 4,
 "nbformat_minor": 2
}
